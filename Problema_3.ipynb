{
  "nbformat": 4,
  "nbformat_minor": 0,
  "metadata": {
    "colab": {
      "provenance": []
    },
    "kernelspec": {
      "name": "python3",
      "display_name": "Python 3"
    },
    "language_info": {
      "name": "python"
    }
  },
  "cells": [
    {
      "cell_type": "markdown",
      "source": [
        "###3 - Crea un código que recoja en una lista 5 números enteros aleatorios e imprima la lista. Ejemplo: [1, 4, 7, 2, 4]."
      ],
      "metadata": {
        "id": "7akhoQNEG-qK"
      }
    },
    {
      "cell_type": "markdown",
      "source": [
        "Aquí tienes el código mejorado con manejo de errores para validar que solo se ingresen enteros:"
      ],
      "metadata": {
        "id": "juh15fLRHbwn"
      }
    },
    {
      "cell_type": "code",
      "source": [
        "lista = []\n",
        "\n",
        "for _ in range(5):                                                         # Bucle enterno \"for\", garantiza que se recolectarán exactamente 5 números.\n",
        "    while True:                                                            # Bucle interno \"while True\"; Se ejecuta indefinidamente hasta que el usuario ingrese un valor válido.\n",
        "        try:                                                               # Bloque \"try-except\";  se utiliza para manejar errores o excepciones que pueden ocurrir durante la ejecución del programa. # Código que puede causar un error\n",
        "            numero = int(input(\"Ingrese un número entero: \"))              # Código que puede causar un error\n",
        "            lista.append(numero)\n",
        "            break                                                          # Rompe el bucle interno si el input es válido\n",
        "\n",
        "        except ValueError:                                                  # Código que se ejecuta si ocurre ese error\n",
        "            print(\"Valor incorrecto. Por favor, ingrese un número entero válido.\")\n",
        "\n",
        "\n",
        "print(\"\\nLista generada:\", lista)\n"
      ],
      "metadata": {
        "colab": {
          "base_uri": "https://localhost:8080/"
        },
        "id": "cAQDh4PZHdDR",
        "outputId": "895df0d3-cef3-446f-bda0-27053d8aa702"
      },
      "execution_count": 2,
      "outputs": [
        {
          "output_type": "stream",
          "name": "stdout",
          "text": [
            "Ingrese un número entero: 0\n",
            "Ingrese un número entero: -96\n",
            "Ingrese un número entero: hla\n",
            "Valor incorrecto. Por favor, ingrese un número entero válido.\n",
            "Ingrese un número entero: 2\n",
            "Ingrese un número entero: 4\n",
            "Ingrese un número entero: 7\n",
            "\n",
            "Lista generada: [0, -96, 2, 4, 7]\n"
          ]
        }
      ]
    },
    {
      "cell_type": "code",
      "source": [],
      "metadata": {
        "id": "3WnuriTjLud3"
      },
      "execution_count": null,
      "outputs": []
    }
  ]
}